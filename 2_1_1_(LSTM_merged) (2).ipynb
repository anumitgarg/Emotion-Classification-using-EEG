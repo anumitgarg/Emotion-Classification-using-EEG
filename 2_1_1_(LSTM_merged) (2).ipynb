{
  "nbformat": 4,
  "nbformat_minor": 0,
  "metadata": {
    "colab": {
      "name": "2_1.1_(LSTM merged).ipynb",
      "provenance": [],
      "collapsed_sections": []
    },
    "kernelspec": {
      "name": "python3",
      "display_name": "Python 3"
    },
    "accelerator": "TPU"
  },
  "cells": [
    {
      "cell_type": "code",
      "metadata": {
        "id": "UfMp3Ytq5Sfa",
        "colab_type": "code",
        "outputId": "0e1a8cb5-c90d-4cc0-c127-26b81e7fa83f",
        "colab": {
          "base_uri": "https://localhost:8080/",
          "height": 124
        }
      },
      "source": [
        "# Google Colab Setup\n",
        "from google.colab import drive\n",
        "\n",
        "# This will prompt for authorization.\n",
        "drive.mount('/content/drive')"
      ],
      "execution_count": 2,
      "outputs": [
        {
          "output_type": "stream",
          "text": [
            "Go to this URL in a browser: https://accounts.google.com/o/oauth2/auth?client_id=947318989803-6bn6qk8qdgf4n4g3pfee6491hc0brc4i.apps.googleusercontent.com&redirect_uri=urn%3aietf%3awg%3aoauth%3a2.0%3aoob&response_type=code&scope=email%20https%3a%2f%2fwww.googleapis.com%2fauth%2fdocs.test%20https%3a%2f%2fwww.googleapis.com%2fauth%2fdrive%20https%3a%2f%2fwww.googleapis.com%2fauth%2fdrive.photos.readonly%20https%3a%2f%2fwww.googleapis.com%2fauth%2fpeopleapi.readonly\n",
            "\n",
            "Enter your authorization code:\n",
            "··········\n",
            "Mounted at /content/drive\n"
          ],
          "name": "stdout"
        }
      ]
    },
    {
      "cell_type": "markdown",
      "metadata": {
        "id": "s_GrEk7h-J6u",
        "colab_type": "text"
      },
      "source": [
        ""
      ]
    },
    {
      "cell_type": "code",
      "metadata": {
        "id": "_rEWWS5F5fUY",
        "colab_type": "code",
        "colab": {}
      },
      "source": [
        "import numpy as np\n",
        "%matplotlib inline\n",
        "from sklearn.model_selection import train_test_split\n",
        "\n",
        "from numpy.random import seed\n",
        "seed(0)\n",
        "from tensorflow import set_random_seed\n",
        "set_random_seed(0)"
      ],
      "execution_count": 0,
      "outputs": []
    },
    {
      "cell_type": "code",
      "metadata": {
        "id": "0eK6_Zap5i3g",
        "colab_type": "code",
        "colab": {}
      },
      "source": [
        "X = np.load(\"/content/drive/My Drive/Wavelet/dataset/features_data_master.npy\")"
      ],
      "execution_count": 0,
      "outputs": []
    },
    {
      "cell_type": "code",
      "metadata": {
        "id": "PGRm88kW5w2s",
        "colab_type": "code",
        "colab": {}
      },
      "source": [
        "X.shape"
      ],
      "execution_count": 0,
      "outputs": []
    },
    {
      "cell_type": "code",
      "metadata": {
        "id": "7A3yS28g6krN",
        "colab_type": "code",
        "colab": {}
      },
      "source": [
        "X = np.reshape(X, (1280, 40, 250))"
      ],
      "execution_count": 0,
      "outputs": []
    },
    {
      "cell_type": "code",
      "metadata": {
        "id": "T4WqG4gN5zXj",
        "colab_type": "code",
        "colab": {}
      },
      "source": [
        "Y1 = np.load(\"/content/drive/My Drive/Wavelet/dataset/labels_data.npy\")"
      ],
      "execution_count": 0,
      "outputs": []
    },
    {
      "cell_type": "code",
      "metadata": {
        "id": "Lp1XJyCG5zaF",
        "colab_type": "code",
        "colab": {}
      },
      "source": [
        "Y1.shape"
      ],
      "execution_count": 0,
      "outputs": []
    },
    {
      "cell_type": "code",
      "metadata": {
        "id": "DWVsvlfgp7Wi",
        "colab_type": "code",
        "colab": {}
      },
      "source": [
        "Y1 = np.reshape(Y1, (1280, 4))"
      ],
      "execution_count": 0,
      "outputs": []
    },
    {
      "cell_type": "code",
      "metadata": {
        "id": "7EYR0fhsp7Zd",
        "colab_type": "code",
        "colab": {}
      },
      "source": [
        "\"\"\"\n",
        "0 - valence\n",
        "1 - arousal\n",
        "2 - dominance\n",
        "3 - liking\n",
        "\"\"\"\n",
        "Y_valence = Y1[:, 0].reshape(1280, 1)\n",
        "Y_arousal = Y1[:, 1].reshape(1280, 1)\n",
        "Y_dominance = Y1[:, 2].reshape(1280, 1)\n",
        "Y_liking = Y1[:, 3].reshape(1280, 1)"
      ],
      "execution_count": 0,
      "outputs": []
    },
    {
      "cell_type": "code",
      "metadata": {
        "id": "p_LihpKHp7dC",
        "colab_type": "code",
        "colab": {}
      },
      "source": [
        "# Choose on which emotion you want to run classifier\n",
        "Y = Y_liking.copy()"
      ],
      "execution_count": 0,
      "outputs": []
    },
    {
      "cell_type": "code",
      "metadata": {
        "id": "uRit8CwKq88R",
        "colab_type": "code",
        "colab": {}
      },
      "source": [
        "for i in range(1280):\n",
        "  if(Y[i, :] > 3):\n",
        "    Y[i, :] = 1\n",
        "  else:\n",
        "    Y[i, :] = 0\n",
        "      "
      ],
      "execution_count": 0,
      "outputs": []
    },
    {
      "cell_type": "code",
      "metadata": {
        "id": "H2Vwlzwtn2Ji",
        "colab_type": "code",
        "colab": {}
      },
      "source": [
        "# check to know the fraction of positive values\n",
        "\n",
        "positive_count = 0\n",
        "negative_count = 0\n",
        "\n",
        "for k in range(Y.shape[0]):\n",
        "  if(Y[k, :]==1):\n",
        "    positive_count +=1\n",
        "  else:\n",
        "    negative_count +=1\n",
        "\n",
        "      "
      ],
      "execution_count": 0,
      "outputs": []
    },
    {
      "cell_type": "code",
      "metadata": {
        "id": "Vh3IO7Vq5zdE",
        "colab_type": "code",
        "colab": {}
      },
      "source": [
        "#split the X and Y into training and test set\n",
        "x_train, x_test, y_train, y_test = train_test_split(X, Y, test_size=0.15, random_state = 42)"
      ],
      "execution_count": 0,
      "outputs": []
    },
    {
      "cell_type": "code",
      "metadata": {
        "id": "M8RAFjw4hVd4",
        "colab_type": "code",
        "colab": {}
      },
      "source": [
        "x_train.shape"
      ],
      "execution_count": 0,
      "outputs": []
    },
    {
      "cell_type": "code",
      "metadata": {
        "id": "1S2K7zAoiG19",
        "colab_type": "code",
        "colab": {}
      },
      "source": [
        "x_test.shape"
      ],
      "execution_count": 0,
      "outputs": []
    },
    {
      "cell_type": "code",
      "metadata": {
        "id": "rkwo-n8y5zhO",
        "colab_type": "code",
        "colab": {}
      },
      "source": [
        "#split the x_train and y_train into training and validation set\n",
        "#X_train, x_valid, Y_train, y_valid = train_test_split(x_train, y_train, test_size=0.10)"
      ],
      "execution_count": 0,
      "outputs": []
    },
    {
      "cell_type": "code",
      "metadata": {
        "id": "XDFSII5vHkl0",
        "colab_type": "code",
        "colab": {}
      },
      "source": [
        "import keras\n",
        "keras.__version__"
      ],
      "execution_count": 0,
      "outputs": []
    },
    {
      "cell_type": "code",
      "metadata": {
        "id": "PN9ewh24ofti",
        "colab_type": "code",
        "colab": {}
      },
      "source": [
        "from keras.models import Sequential\n",
        "from keras.layers import Dense, Dropout\n",
        "from keras.layers import Embedding\n",
        "from keras.layers import LSTM\n",
        "from keras.models import Model\n",
        "from keras.layers import Input\n",
        "from keras.utils import plot_model\n"
      ],
      "execution_count": 0,
      "outputs": []
    },
    {
      "cell_type": "code",
      "metadata": {
        "id": "9WaYZZROdZ7d",
        "colab_type": "code",
        "colab": {}
      },
      "source": [
        "from keras.layers import Dense, Conv1D, Input, MaxPooling1D, Flatten, Dropout, LSTM\n",
        "from sklearn.model_selection import train_test_split\n",
        "\n",
        "\n",
        "model = Sequential()\n",
        "\n",
        "model.add(Conv1D(64, 3, activation='relu', padding='same', input_shape=(4, 1)))\n",
        "model.add(LSTM(64, return_sequences=True))\n",
        "model.add(MaxPooling1D(2))\n",
        "model.add(Conv1D(128, 4, activation=\"relu\", padding='same'))\n",
        "model.add(LSTM(128, return_sequences=True))\n",
        "model.add(MaxPooling1D(2))\n",
        "model.add(Conv1D(256, 3, activation=\"relu\", padding='same'))\n",
        "model.add(LSTM(256))\n",
        "model.add(Dense(6, activation='softmax'))       #Outputs probability of occurence"
      ],
      "execution_count": 0,
      "outputs": []
    },
    {
      "cell_type": "code",
      "metadata": {
        "id": "_3KR1HNZr6DY",
        "colab_type": "code",
        "colab": {}
      },
      "source": [
        "\n",
        "\n",
        "# MODEL-2\n",
        "\n",
        "lstm_no = 100\n",
        "dense1 = 100\n",
        "dense2 = 10\n",
        "act1 = 'relu'\n",
        "act2 = 'relu'\n",
        "ip1 = 1;\n",
        "ip2 = 250;\n",
        "\n",
        "\n",
        "input1 = Input(shape=(ip1, ip2), name='input1')\n",
        "lstm_out1 = LSTM(lstm_no,activation=act1)(input1)\n",
        "x_1 = Dense(dense1, activation = act1)(lstm_out1)\n",
        "#x1 = Dense(dense2, activation = act2)(x_1)\n",
        "\n",
        "\n",
        "input2 = Input(shape=(ip1, ip2), name='input2')\n",
        "lstm_out2 = LSTM(lstm_no,activation=act1)(input2)\n",
        "x_2 = Dense(dense1, activation = act1)(lstm_out2)\n",
        "#x2 = Dense(dense2, activation = act2)(x_2)\n",
        "\n",
        "\n",
        "input3 = Input(shape=(ip1, ip2), name='input3')\n",
        "lstm_out3 = LSTM(lstm_no,activation=act1)(input3)\n",
        "x_3 = Dense(dense1, activation = act1)(lstm_out3)\n",
        "#x3 = Dense(dense2, activation = act2)(x_3)\n",
        "\n",
        "\n",
        "input4 = Input(shape=(ip1, ip2), name='input4')\n",
        "lstm_out4 = LSTM(lstm_no,activation=act1)(input4)\n",
        "x_4 = Dense(dense1, activation = act1)(lstm_out4)\n",
        "#x4 = Dense(dense2, activation = act2)(x_4)\n",
        "\n",
        "\n",
        "input5 = Input(shape=(ip1, ip2), name='input5')\n",
        "lstm_out5 = LSTM(lstm_no,activation=act1)(input5)\n",
        "x_5 = Dense(dense1, activation = act1)(lstm_out5)\n",
        "#x5 = Dense(dense2, activation = act2)(x_5)\n",
        "\n",
        "\n",
        "input6 = Input(shape=(ip1, ip2), name='input6')\n",
        "lstm_out6 = LSTM(lstm_no,activation=act1)(input6)\n",
        "x_6 = Dense(dense1, activation = act1)(lstm_out6)\n",
        "#x6 = Dense(dense2, activation = act2)(x_6)\n",
        "\n",
        "\n",
        "input7 = Input(shape=(ip1, ip2), name='input7')\n",
        "lstm_out7 = LSTM(lstm_no,activation=act1)(input7)\n",
        "x_7 = Dense(dense1, activation = act1)(lstm_out7)\n",
        "#x7 = Dense(dense2, activation = act2)(x_7)\n",
        "\n",
        "\n",
        "input8 = Input(shape=(ip1, ip2), name='input8')\n",
        "lstm_out8 = LSTM(lstm_no,activation=act1)(input8)\n",
        "x_8 = Dense(dense1, activation = act1)(lstm_out8)\n",
        "#x8 = Dense(dense2, activation = act2)(x_8)\n",
        "\n",
        "\n",
        "input9 = Input(shape=(ip1, ip2), name='input9')\n",
        "lstm_out9 = LSTM(lstm_no,activation=act1)(input9)\n",
        "x_9 = Dense(dense1, activation = act1)(lstm_out9)\n",
        "#x9 = Dense(dense2, activation = act2)(x_9)\n",
        "\n",
        "\n",
        "input10 = Input(shape=(ip1, ip2), name='input10')\n",
        "lstm_out10 = LSTM(lstm_no,activation=act1)(input10)\n",
        "x_10 = Dense(dense1, activation = act1)(lstm_out10)\n",
        "#x10 = Dense(dense2, activation = act2)(x_10)\n",
        "\n",
        "\n",
        "input11 = Input(shape=(ip1, ip2), name='input11')\n",
        "lstm_out11 = LSTM(lstm_no,activation=act1)(input11)\n",
        "x_11 = Dense(dense1, activation = act1)(lstm_out11)\n",
        "#x11 = Dense(dense2, activation = act2)(x_11)\n",
        "\n",
        "\n",
        "input12 = Input(shape=(ip1, ip2), name='input12')\n",
        "lstm_out12 = LSTM(lstm_no,activation=act1)(input12)\n",
        "x_12 = Dense(dense1, activation = act1)(lstm_out12)\n",
        "#x12 = Dense(dense2, activation = act2)(x_12)\n",
        "\n",
        "\n",
        "input13 = Input(shape=(ip1, ip2), name='input13')\n",
        "lstm_out13 = LSTM(lstm_no,activation=act1)(input13)\n",
        "x_13 = Dense(dense1, activation = act1)(lstm_out13)\n",
        "#x13 = Dense(dense2, activation = act2)(x_13)\n",
        "\n",
        "\n",
        "input14 = Input(shape=(ip1, ip2), name='input14')\n",
        "lstm_out14 = LSTM(lstm_no,activation=act1)(input14)\n",
        "x_14 = Dense(dense1, activation = act1)(lstm_out14)\n",
        "#x14 = Dense(dense2, activation = act2)(x_14)\n",
        "\n",
        "input15 = Input(shape=(ip1, ip2), name='input15')\n",
        "lstm_out15 = LSTM(lstm_no,activation=act1)(input15)\n",
        "x_15 = Dense(dense1, activation = act1)(lstm_out15)\n",
        "#x15 = Dense(dense2, activation = act2)(x_15)\n",
        "\n",
        "\n",
        "input16 = Input(shape=(ip1, ip2), name='input16')\n",
        "lstm_out16 = LSTM(lstm_no,activation=act1)(input16)\n",
        "x_16 = Dense(dense1, activation = act1)(lstm_out16)\n",
        "#x16 = Dense(dense2, activation = act2)(x_16)\n",
        "\n",
        "\n",
        "input17 = Input(shape=(ip1, ip2), name='input17')\n",
        "lstm_out17 = LSTM(lstm_no,activation=act1)(input17)\n",
        "x_17 = Dense(dense1, activation = act1)(lstm_out17)\n",
        "#x17 = Dense(dense2, activation = act2)(x_17)\n",
        "\n",
        "\n",
        "input18 = Input(shape=(ip1, ip2), name='input18')\n",
        "lstm_out18 = LSTM(lstm_no,activation=act1)(input18)\n",
        "x_18 = Dense(dense1, activation = act1)(lstm_out18)\n",
        "#x18 = Dense(dense2, activation = act2)(x_18)\n",
        "\n",
        "\n",
        "input19 = Input(shape=(ip1, ip2), name='input19')\n",
        "lstm_out19 = LSTM(lstm_no,activation=act1)(input19)\n",
        "x_19 = Dense(dense1, activation = act1)(lstm_out19)\n",
        "#x19 = Dense(dense2, activation = act2)(x_19)\n",
        "\n",
        "\n",
        "input20 = Input(shape=(ip1, ip2), name='input20')\n",
        "lstm_out20 = LSTM(lstm_no,activation=act1)(input20)\n",
        "x_20 = Dense(dense1, activation = act1)(lstm_out20)\n",
        "#x20 = Dense(dense2, activation = act2)(x_20)\n",
        "\n",
        "\n",
        "input21 = Input(shape=(ip1, ip2), name='input21')\n",
        "lstm_out21 = LSTM(lstm_no,activation=act1)(input21)\n",
        "x_21 = Dense(dense1, activation = act1)(lstm_out21)\n",
        "#x21 = Dense(dense2, activation = act2)(x_21)\n",
        "\n",
        "\n",
        "input22 = Input(shape=(ip1, ip2), name='input22')\n",
        "lstm_out22 = LSTM(lstm_no,activation=act1)(input22)\n",
        "x_22 = Dense(dense1, activation = act1)(lstm_out22)\n",
        "#x22 = Dense(dense2, activation = act2)(x_22)\n",
        "\n",
        "\n",
        "input23 = Input(shape=(ip1, ip2), name='input23')\n",
        "lstm_out23 = LSTM(lstm_no,activation=act1)(input23)\n",
        "x_23 = Dense(dense1, activation = act1)(lstm_out23)\n",
        "#x23 = Dense(dense2, activation = act2)(x_23)\n",
        "\n",
        "\n",
        "input24 = Input(shape=(ip1, ip2), name='input24')\n",
        "lstm_out24 = LSTM(lstm_no,activation=act1)(input24)\n",
        "x_24 = Dense(dense1, activation = act1)(lstm_out24)\n",
        "#x24 = Dense(dense2, activation = act2)(x_24)\n",
        "\n",
        "\n",
        "input25 = Input(shape=(ip1, ip2), name='input25')\n",
        "lstm_out25 = LSTM(lstm_no,activation=act1)(input25)\n",
        "x_25 = Dense(dense1, activation = act1)(lstm_out25)\n",
        "#x25 = Dense(dense2, activation = act2)(x_25)\n",
        "\n",
        "\n",
        "input26 = Input(shape=(ip1, ip2), name='input26')\n",
        "lstm_out26 = LSTM(lstm_no,activation=act1)(input26)\n",
        "x_26 = Dense(dense1, activation = act1)(lstm_out26)\n",
        "#x26 = Dense(dense2, activation = act2)(x_26)\n",
        "\n",
        "\n",
        "input27 = Input(shape=(ip1, ip2), name='input27')\n",
        "lstm_out27 = LSTM(lstm_no,activation=act1)(input27)\n",
        "x_27 = Dense(dense1, activation = act1)(lstm_out27)\n",
        "#x27 = Dense(dense2, activation = act2)(x_27)\n",
        "\n",
        "\n",
        "input28 = Input(shape=(ip1, ip2), name='input28')\n",
        "lstm_out28 = LSTM(lstm_no,activation=act1)(input28)\n",
        "x_28 = Dense(dense1, activation = act1)(lstm_out28)\n",
        "#x28 = Dense(dense2, activation = act2)(x_28)\n",
        "\n",
        "\n",
        "input29 = Input(shape=(ip1, ip2), name='input29')\n",
        "lstm_out29 = LSTM(lstm_no,activation=act1)(input29)\n",
        "x_29 = Dense(dense1, activation = act1)(lstm_out29)\n",
        "#x29 = Dense(dense2, activation = act2)(x_29)\n",
        "\n",
        "\n",
        "input30 = Input(shape=(ip1, ip2), name='input30')\n",
        "lstm_out30 = LSTM(lstm_no,activation=act1)(input30)\n",
        "x_30 = Dense(dense1, activation = act1)(lstm_out30)\n",
        "#x30 = Dense(dense2, activation = act2)(x_30)\n",
        "\n",
        "\n",
        "input31 = Input(shape=(ip1, ip2), name='input31')\n",
        "lstm_out31 = LSTM(lstm_no,activation=act1)(input31)\n",
        "x_31 = Dense(dense1, activation = act1)(lstm_out31)\n",
        "#x31 = Dense(dense2, activation = act2)(x_31)\n",
        "\n",
        "\n",
        "input32 = Input(shape=(ip1, ip2), name='input32')\n",
        "lstm_out32 = LSTM(lstm_no,activation=act1)(input32)\n",
        "x_32 = Dense(dense1, activation = act1)(lstm_out32)\n",
        "#x32 = Dense(dense2, activation = act2)(x_32)\n",
        "\n",
        "input33 = Input(shape=(ip1, ip2), name='input33')\n",
        "lstm_out33 = LSTM(lstm_no,activation=act1)(input33)\n",
        "x_33 = Dense(dense1, activation = act1)(lstm_out33)\n",
        "#x33 = Dense(dense2, activation = act2)(x_33)\n",
        "\n",
        "input34 = Input(shape=(ip1, ip2), name='input34')\n",
        "lstm_out34 = LSTM(lstm_no,activation=act1)(input34)\n",
        "x_34 = Dense(dense1, activation = act1)(lstm_out34)\n",
        "#x34 = Dense(dense2, activation = act2)(x_34)\n",
        "\n",
        "input35 = Input(shape=(ip1, ip2), name='input35')\n",
        "lstm_out35 = LSTM(lstm_no,activation=act1)(input35)\n",
        "x_35 = Dense(dense1, activation = act1)(lstm_out35)\n",
        "#x35 = Dense(dense2, activation = act2)(x_35)\n",
        "\n",
        "input36 = Input(shape=(ip1, ip2), name='input36')\n",
        "lstm_out36 = LSTM(lstm_no,activation=act1)(input36)\n",
        "x_36 = Dense(dense1, activation = act1)(lstm_out36)\n",
        "#x36 = Dense(dense2, activation = act2)(x_36)\n",
        "\n",
        "input37 = Input(shape=(ip1, ip2), name='input37')\n",
        "lstm_out37 = LSTM(lstm_no,activation=act1)(input37)\n",
        "x_37 = Dense(dense1, activation = act1)(lstm_out37)\n",
        "#x37 = Dense(dense2, activation = act2)(x_37)\n",
        "\n",
        "input38 = Input(shape=(ip1, ip2), name='input38')\n",
        "lstm_out38 = LSTM(lstm_no,activation=act1)(input38)\n",
        "x_38 = Dense(dense1, activation = act1)(lstm_out38)\n",
        "#x38 = Dense(dense2, activation = act2)(x_38)\n",
        "\n",
        "input39 = Input(shape=(ip1, ip2), name='input39')\n",
        "lstm_out39 = LSTM(lstm_no,activation=act1)(input39)\n",
        "x_39= Dense(dense1, activation = act1)(lstm_out39)\n",
        "#x39 = Dense(dense2, activation = act2)(x_39)\n",
        "\n",
        "input40 = Input(shape=(ip1, ip2), name='input40')\n",
        "lstm_out40 = LSTM(lstm_no,activation=act1)(input40)\n",
        "x_40 = Dense(dense1, activation = act1)(lstm_out40)\n",
        "#x40 = Dense(dense2, activation = act2)(x_40)\n",
        "\n",
        "\n",
        "#x = keras.layers.concatenate([x1, x2, x3, x4, x5, x6, x7, x8, x9, x10, x11, x12, x13, x14, x15, x16, x17, x18, x19, x20, x21, x22, x23, x24, x25, x26, x27, x28, x29, x30, x31, x32, x33, x34, x35, x36, x37, x38, x39, x40])\n",
        "x = keras.layers.concatenate([x_1, x_2, x_3, x_4, x_5, x_6, x_7, x_8, x_9, x_10, x_11, x_12, x_13, x_14, x_15, x_16, x_17, x_18, x_19, x_20, x_21, x_22, x_23, x_24, x_25, x_26, x_27, x_28, x_29, x_30, x_31, x_32, x_33, x_34, x_35, x_36, x_37, x_38, x_39, x_40])\n",
        "x = Dense(100, activation='sigmoid')(x)\n",
        "#x = Dense(100, activation='relu')(x)\n",
        "x = Dense(64, activation='relu')(x)\n",
        "main_output = Dense(1, activation='sigmoid', name='main_output')(x)\n",
        "\n",
        "model = Model([input1, input2, input3, input4, input5, input6, input7, input8, input9, input10, input11, input12, input13, input14, input15, input16, input17, input18, input19, input20, input21, input22, input23, input24, input25, input26, input27, input28, input29, input30, input31, input32, input33, input34, input35, input36, input37, input38, input39, input40],[main_output])\n",
        "\n",
        "model.compile(loss='binary_crossentropy',\n",
        "              optimizer='rmsprop',\n",
        "              metrics=['accuracy'])\n",
        "\n",
        "\n"
      ],
      "execution_count": 0,
      "outputs": []
    },
    {
      "cell_type": "code",
      "metadata": {
        "id": "eWccd883C7NY",
        "colab_type": "code",
        "colab": {}
      },
      "source": [
        "\n",
        "png=plot_model(model, to_file='/content/drive/My Drive/cognition/paper.png')\n"
      ],
      "execution_count": 0,
      "outputs": []
    },
    {
      "cell_type": "code",
      "metadata": {
        "id": "SV9vY232qTpo",
        "colab_type": "code",
        "colab": {}
      },
      "source": [
        "print(model.summary())"
      ],
      "execution_count": 0,
      "outputs": []
    },
    {
      "cell_type": "code",
      "metadata": {
        "id": "g-lZNb2HC3yZ",
        "colab_type": "code",
        "colab": {}
      },
      "source": [
        ""
      ],
      "execution_count": 0,
      "outputs": []
    },
    {
      "cell_type": "code",
      "metadata": {
        "id": "XZVJyvXPzYLN",
        "colab_type": "code",
        "colab": {}
      },
      "source": [
        "train_no = 1088;\n",
        "samples = 250\n",
        "\n",
        "x_train0 = x_train[:, 0, :].reshape(train_no,1,samples)\n",
        "x_train1 = x_train[:, 1, :].reshape(train_no,1,samples)\n",
        "x_train2 = x_train[:, 2, :].reshape(train_no,1,samples) \n",
        "x_train3 = x_train[:, 3, :].reshape(train_no,1,samples)\n",
        "x_train4 = x_train[:, 4, :].reshape(train_no,1,samples)\n",
        "x_train5 = x_train[:, 5, :].reshape(train_no,1,samples) \n",
        "x_train6 = x_train[:, 6, :].reshape(train_no,1,samples)\n",
        "x_train7 = x_train[:, 7, :].reshape(train_no,1,samples)\n",
        "x_train8 = x_train[:, 8, :].reshape(train_no,1,samples) \n",
        "x_train9 = x_train[:, 9, :].reshape(train_no,1,samples)\n",
        "x_train10 = x_train[:, 10, :].reshape(train_no,1,samples)\n",
        "x_train11 = x_train[:, 11, :].reshape(train_no,1,samples) \n",
        "x_train12 = x_train[:, 12, :].reshape(train_no,1,samples)\n",
        "x_train13 = x_train[:, 13, :].reshape(train_no,1,samples)\n",
        "x_train14 = x_train[:, 14, :].reshape(train_no,1,samples) \n",
        "x_train15 = x_train[:, 15, :].reshape(train_no,1,samples)\n",
        "x_train16 = x_train[:, 16, :].reshape(train_no,1,samples)\n",
        "x_train17 = x_train[:, 17, :].reshape(train_no,1,samples) \n",
        "x_train18 = x_train[:, 18, :].reshape(train_no,1,samples)\n",
        "x_train19 = x_train[:, 19, :].reshape(train_no,1,samples)\n",
        "x_train20 = x_train[:, 20, :].reshape(train_no,1,samples) \n",
        "x_train21 = x_train[:, 21, :].reshape(train_no,1,samples)\n",
        "x_train22 = x_train[:, 22, :].reshape(train_no,1,samples)\n",
        "x_train23 = x_train[:, 23, :].reshape(train_no,1,samples) \n",
        "x_train24 = x_train[:, 24, :].reshape(train_no,1,samples)\n",
        "x_train25 = x_train[:, 25, :].reshape(train_no,1,samples)\n",
        "x_train26 = x_train[:, 26, :].reshape(train_no,1,samples) \n",
        "x_train27 = x_train[:, 27, :].reshape(train_no,1,samples)\n",
        "x_train28 = x_train[:, 28, :].reshape(train_no,1,samples)\n",
        "x_train29 = x_train[:, 29, :].reshape(train_no,1,samples) \n",
        "x_train30 = x_train[:, 30, :].reshape(train_no,1,samples)\n",
        "x_train31 = x_train[:, 31, :].reshape(train_no,1,samples)\n",
        "x_train32 = x_train[:, 32, :].reshape(train_no,1,samples)\n",
        "x_train33 = x_train[:, 33, :].reshape(train_no,1,samples)\n",
        "x_train34 = x_train[:, 34, :].reshape(train_no,1,samples)\n",
        "x_train35 = x_train[:, 35, :].reshape(train_no,1,samples)\n",
        "x_train36 = x_train[:, 36, :].reshape(train_no,1,samples)\n",
        "x_train37 = x_train[:, 37, :].reshape(train_no,1,samples)\n",
        "x_train38 = x_train[:, 38, :].reshape(train_no,1,samples)\n",
        "x_train39 = x_train[:, 39, :].reshape(train_no,1,samples)\n",
        "y_train.shape        "
      ],
      "execution_count": 0,
      "outputs": []
    },
    {
      "cell_type": "code",
      "metadata": {
        "id": "xQeZHHbjLAh_",
        "colab_type": "code",
        "colab": {}
      },
      "source": [
        "\n",
        "\n",
        "history = model.fit([x_train0, x_train1, x_train2, x_train3, x_train4, x_train5, x_train6, x_train7, x_train8, x_train9, x_train10, x_train11, x_train12, x_train13, x_train14, x_train15, x_train16, x_train17, x_train18, x_train19, x_train20, x_train21, x_train22, x_train23, x_train24, x_train25, x_train26, x_train27, x_train28, x_train29, x_train30, x_train31, x_train32, x_train33, x_train34, x_train35, x_train36, x_train37, x_train38, x_train39 ], y_train, batch_size=128, epochs=50)\n",
        "# 50"
      ],
      "execution_count": 0,
      "outputs": []
    },
    {
      "cell_type": "markdown",
      "metadata": {
        "id": "yzVKU4KXixMS",
        "colab_type": "text"
      },
      "source": [
        ""
      ]
    },
    {
      "cell_type": "code",
      "metadata": {
        "id": "-Rt6CyyzbU6D",
        "colab_type": "code",
        "colab": {}
      },
      "source": [
        "test_no = 192;\n",
        "samples = 250\n",
        "\n",
        "x_test0 = x_test[:, 0, :].reshape(test_no,1,samples)\n",
        "x_test1 = x_test[:, 1, :].reshape(test_no,1,samples)\n",
        "x_test2 = x_test[:, 2, :].reshape(test_no,1,samples)\n",
        "x_test3 = x_test[:, 3, :].reshape(test_no,1,samples)\n",
        "x_test4 = x_test[:, 4, :].reshape(test_no,1,samples)\n",
        "x_test5 = x_test[:, 5, :].reshape(test_no,1,samples)\n",
        "x_test6 = x_test[:, 6, :].reshape(test_no,1,samples)\n",
        "x_test7 = x_test[:, 7, :].reshape(test_no,1,samples)\n",
        "\n",
        "x_test8 = x_test[:, 8, :].reshape(test_no,1,samples)\n",
        "x_test9 = x_test[:, 9, :].reshape(test_no,1,samples)\n",
        "x_test10 = x_test[:, 10, :].reshape(test_no,1,samples)\n",
        "x_test11 = x_test[:, 11, :].reshape(test_no,1,samples)\n",
        "x_test12 = x_test[:, 12, :].reshape(test_no,1,samples)\n",
        "x_test13 = x_test[:, 13, :].reshape(test_no,1,samples)\n",
        "x_test14 = x_test[:, 14, :].reshape(test_no,1,samples)\n",
        "x_test15 = x_test[:, 15, :].reshape(test_no,1,samples)\n",
        "x_test16 = x_test[:, 16, :].reshape(test_no,1,samples)\n",
        "x_test17 = x_test[:, 17, :].reshape(test_no,1,samples)\n",
        "x_test18 = x_test[:, 18, :].reshape(test_no,1,samples)\n",
        "x_test19 = x_test[:, 19, :].reshape(test_no,1,samples)\n",
        "x_test20 = x_test[:, 20, :].reshape(test_no,1,samples)\n",
        "x_test21 = x_test[:, 21, :].reshape(test_no,1,samples)\n",
        "x_test22 = x_test[:, 22, :].reshape(test_no,1,samples)\n",
        "x_test23 = x_test[:, 23, :].reshape(test_no,1,samples)\n",
        "x_test24 = x_test[:, 24, :].reshape(test_no,1,samples)\n",
        "x_test25 = x_test[:, 25, :].reshape(test_no,1,samples)\n",
        "x_test26 = x_test[:, 26, :].reshape(test_no,1,samples)\n",
        "x_test27 = x_test[:, 27, :].reshape(test_no,1,samples)\n",
        "x_test28 = x_test[:, 28, :].reshape(test_no,1,samples)\n",
        "x_test29 = x_test[:, 29, :].reshape(test_no,1,samples)\n",
        "x_test30 = x_test[:, 30, :].reshape(test_no,1,samples)\n",
        "\n",
        "x_test31 = x_test[:, 31, :].reshape(test_no,1,samples)\n",
        "x_test32 = x_test[:, 32, :].reshape(test_no,1,samples)\n",
        "x_test33 = x_test[:, 33, :].reshape(test_no,1,samples)\n",
        "x_test34 = x_test[:, 34, :].reshape(test_no,1,samples)\n",
        "\n",
        "x_test35 = x_test[:, 35, :].reshape(test_no,1,samples)\n",
        "x_test36 = x_test[:, 36, :].reshape(test_no,1,samples)\n",
        "x_test37 = x_test[:, 37, :].reshape(test_no,1,samples)\n",
        "x_test38 = x_test[:, 38, :].reshape(test_no,1,samples)\n",
        "x_test39 = x_test[:, 39, :].reshape(test_no,1,samples)\n",
        "\n",
        "score = model.evaluate([x_test0, x_test1, x_test2, x_test3, x_test4, x_test5, x_test6, x_test7, x_test8, x_test9, x_test10, x_test11, x_test12, x_test13, x_test14, x_test15, x_test16, x_test17, x_test18, x_test19, x_test20, x_test21, x_test22, x_test23, x_test24, x_test25, x_test26, x_test27, x_test28, x_test29, x_test30, x_test31,x_test32,x_test33,x_test34,x_test35,x_test36,x_test37,x_test38,x_test39], y_test, batch_size=128)\n",
        "print(score[1])"
      ],
      "execution_count": 0,
      "outputs": []
    },
    {
      "cell_type": "code",
      "metadata": {
        "id": "WJRwkNZzbSeG",
        "colab_type": "code",
        "colab": {}
      },
      "source": [
        "\"\"\"\n",
        "DENSE 10, 10\n",
        "\n",
        "        Relu, sigmoid\n",
        "        0.546875\n",
        "        0.604167\n",
        "        0.598958333334\n",
        "        0.5520833333333334\n",
        "        0.5416666666666666\n",
        "\n",
        "\n",
        "        Relu, Relu\n",
        "        0.65625\n",
        "\n",
        "\n",
        "        Relu\n",
        "        0.65625  --> Same\n",
        "        \n",
        "        \n",
        "        Sigmoid\n",
        "        0.6197916666666666\n",
        "        0.625\n",
        "        0.5416666666666666\n",
        "        \n",
        "        \n",
        "DENSE 100\n",
        "\n",
        "        Relu\n",
        "        0.6614583333333334\n",
        "        \n",
        "        \n",
        "        Sigmoid\n",
        "        0.65625\n",
        "        0.6458333333333334\n",
        "        \n",
        "\n",
        "\n",
        "\n",
        "Y_valence thresholded at 5\n",
        "0.48828125 (100 dense; 100 LSTM; rmsprop; epochs = 60)\n",
        "0.55078125 (10 dense; 100 LSTM; rmsprop; epochs = 50)\n",
        "0.53125    (10 dense; 100 LSTM; rmsprop; epochs = 60)\n",
        "0.54296875 (10 dense; 100 LSTM; rmsprop; epochs = 100)\n",
        "\n",
        "Y_valence thresholded at 4.5\n",
        "last layer- // layer=64 //\n",
        "0.56640625 (10 dense; 100 LSTM; rmsprop; epochs = 120)\n",
        "0.58984375 (10 dense; 100 LSTM; rmsprop; epochs = 140)\n",
        "0.546875 (10 dense; 100 LSTM; rmsprop; epochs = 160)\n",
        "\n",
        "# Random seed\n",
        "0.6171875 (10 dense; 100 LSTM; rmsprop; epochs = 140)\n",
        "0.58984375 (10 dense; 200 LSTM; rmsprop; epochs = 140)\n",
        "0.57421875 (10 dense; 200 LSTM; rmsprop; epochs = 150)\n",
        "0.609375 (100 dense; 200 LSTM; rmsprop; epochs = 140)  last layer-relu=100; sigmoid=1 \n",
        "0.58984375 (100 dense; 200 LSTM; rmsprop; epochs = 140)  last layer-relu=100; relu=10; sigmoid=1 \n",
        "\n",
        "// LSTM=100; Dense=100sg; last_layer=100'relu'\n",
        "0.34\n",
        "\n",
        "// LSTM=100; Dense=10sg; last_layer=100'relu'\n",
        "0.609375\n",
        "\n",
        "// LSTM=100; Dense=10relu; Dense=10sg; last_layer=100'relu'\n",
        "0.5625\n",
        "\n",
        "// LSTM=100; Dense=100relu; Dense=100sg; last_layer=100'relu' ------> LOCAL MINIMA (MAYBE)\n",
        "0.64453125\n",
        "\n",
        "// LSTM=100; Dense=64relu; Dense=64sg; last_layer=100'relu'\n",
        "0.6171875  (though error not reducing much) with 140/60 epochs both\n",
        "\n",
        "// LSTM=100, Dense=64 relu only\n",
        "0.578125\n",
        "\n",
        "// LSTM=32, Dense=64 relu only\n",
        "0.4895833333333333\n",
        "\n",
        "// LSTM=100, dense=32'relu', dense=32'relu'\n",
        "0.5260416666666666\n",
        "\n",
        "// LSTM=100, dense=100'relu', dense=100'relu'\n",
        "0.5625\n",
        "\n",
        "<<<<<<<<<<<<<<<< - - - - - - ---------------------------------------------------------------- - - - - - - - >>>>>>>>>>>>>>>>>>\n",
        "NEW DATASET\n",
        "// LSTM=100, dense=100'relu', dense=100'sigmoid', no dropout\n",
        "0.5677083333333334\n",
        "\n",
        "// LSTM=100, dense=100'relu', dense=100'sigmoid', no dropout\n",
        "0.65625\n",
        "\n",
        "// LSTM=200, dense=100'relu', dense=100'relu', no dropout\n",
        "0.6354166666666666\n",
        "\n",
        "// LSTM=64, dense=10'relu', dense=10'relu', no dropout\n",
        "0.34375\n",
        "\n",
        "// LSTM=128, dense=10'relu', dense=10'relu', no dropout\n",
        "0.6145833333333334\n",
        "\n",
        "BEST---------------->>>>>>>>..\n",
        "// LSTM=100, dense=10'relu', dense=10'relu', no dropout\n",
        "0.65625\n",
        "\n",
        "\"\"\""
      ],
      "execution_count": 0,
      "outputs": []
    },
    {
      "cell_type": "code",
      "metadata": {
        "id": "SefYNLTYmPo7",
        "colab_type": "code",
        "colab": {}
      },
      "source": [
        "import matplotlib.pyplot as plt\n",
        "\n",
        "# Plot training & validation accuracy values\n",
        "plt.plot(history.history['acc'])\n",
        "#plt.plot(history.history['val_acc'])\n",
        "plt.title('Model accuracy')\n",
        "plt.ylabel('Accuracy')\n",
        "plt.xlabel('Epoch')\n",
        "plt.legend(['Train', 'Test'], loc='upper left')\n",
        "plt.show()\n",
        "\n",
        "# Plot training & validation loss values\n",
        "plt.plot(history.history['loss'])\n",
        "#plt.plot(history.history['val_loss'])\n",
        "plt.title('Model loss')\n",
        "plt.ylabel('Loss')\n",
        "plt.xlabel('Epoch')\n",
        "plt.legend(['Train', 'Test'], loc='upper left')\n",
        "plt.show()"
      ],
      "execution_count": 0,
      "outputs": []
    },
    {
      "cell_type": "code",
      "metadata": {
        "id": "EatRauz5PtOw",
        "colab_type": "code",
        "colab": {}
      },
      "source": [
        ""
      ],
      "execution_count": 0,
      "outputs": []
    }
  ]
}